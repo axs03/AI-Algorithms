{
 "cells": [
  {
   "cell_type": "markdown",
   "id": "9f99f035-2460-4396-b46f-3cc0abb5d218",
   "metadata": {},
   "source": [
    "# CMPSC 441: Homework 4"
   ]
  },
  {
   "cell_type": "code",
   "execution_count": 2,
   "id": "5b1c6eaa-7637-459f-b2c3-b7e31baa692f",
   "metadata": {},
   "outputs": [],
   "source": [
    "student_name = 'Aman Sahu'\n",
    "student_email = 'ajs9219@psu.edu'"
   ]
  },
  {
   "cell_type": "markdown",
   "id": "2bb42a9a-d467-43e6-aee7-53db6e2431d6",
   "metadata": {},
   "source": [
    "## Imports"
   ]
  },
  {
   "cell_type": "code",
   "execution_count": 3,
   "id": "f0dcea06-1271-4c2d-8a31-93acd0c07aa6",
   "metadata": {},
   "outputs": [],
   "source": [
    "from hw4_utils import *\n",
    "import math\n",
    "import random"
   ]
  },
  {
   "cell_type": "markdown",
   "id": "7cb93797-916c-4a3f-a68e-59cc57368017",
   "metadata": {},
   "source": [
    "## Genetic Algorithm"
   ]
  },
  {
   "cell_type": "code",
   "execution_count": 4,
   "id": "232e9945-02ea-48f4-8147-9cd0156ba33f",
   "metadata": {},
   "outputs": [],
   "source": [
    "def genetic_algorithm(problem, f_thres, ngen=1000):\n",
    "    \"\"\"\n",
    "    Returns a tuple (i, sol) \n",
    "    where\n",
    "      - i  : number of generations computed\n",
    "      - sol: best chromosome found\n",
    "    \"\"\"\n",
    "    pass\n"
   ]
  },
  {
   "cell_type": "markdown",
   "id": "c5badbbb-1936-4f04-9159-87be7a5f1a46",
   "metadata": {},
   "source": [
    "## N-Queens Problem"
   ]
  },
  {
   "cell_type": "code",
   "execution_count": 6,
   "id": "04746abe-047e-4c4b-a477-cf5bf5b4ea72",
   "metadata": {},
   "outputs": [],
   "source": [
    "class NQueensProblem(GeneticProblem):\n",
    "    def __init__(self, n, g_bases, g_len, m_prob):\n",
    "        pass\n",
    "    \n",
    "    def init_population(self):\n",
    "        pass\n",
    " \n",
    "    def next_generation(self, population):\n",
    "        pass\n",
    "\n",
    "    def mutate(self, chrom):\n",
    "        pass\n",
    "    \n",
    "    def crossover(self, chrom1, chrom2):\n",
    "        pass\n",
    "\n",
    "    def fitness_fn(self, chrom):\n",
    "        pass\n",
    "    \n",
    "    def select(self, m, population):\n",
    "        pass\n",
    "    \n",
    "    def fittest(self, population, f_thres=None):\n",
    "        pass"
   ]
  },
  {
   "cell_type": "markdown",
   "id": "f33630d3-3958-4ac0-be21-77c9c9c5c39d",
   "metadata": {},
   "source": [
    "## Function Optimaization f(x,y) = x sin(4x) + 1.1 y sin(2y)"
   ]
  },
  {
   "cell_type": "code",
   "execution_count": null,
   "id": "0d761939-21a7-4211-ae5b-a25e0b29d9f5",
   "metadata": {},
   "outputs": [],
   "source": [
    "class FunctionProblem(GeneticProblem):\n",
    "    def __init__(self, n, g_bases, g_len, m_prob):\n",
    "        pass\n",
    "\n",
    "    def init_population(self):\n",
    "        pass\n",
    "\n",
    "    def next_generation(self, population):\n",
    "        pass\n",
    "        \n",
    "    def mutate(self, chrom):\n",
    "        pass\n",
    "        \n",
    "    def crossover(self, chrom1, chrom2):\n",
    "        pass\n",
    "    \n",
    "    def fitness_fn(self, chrom):\n",
    "        pass\n",
    "    \n",
    "    def select(self, m, population):\n",
    "        pass\n",
    "\n",
    "    def fittest(self, population, f_thres=None):\n",
    "        pass"
   ]
  }
 ],
 "metadata": {
  "kernelspec": {
   "display_name": "Python 3 (ipykernel)",
   "language": "python",
   "name": "python3"
  },
  "language_info": {
   "codemirror_mode": {
    "name": "ipython",
    "version": 3
   },
   "file_extension": ".py",
   "mimetype": "text/x-python",
   "name": "python",
   "nbconvert_exporter": "python",
   "pygments_lexer": "ipython3",
   "version": "3.12.6"
  }
 },
 "nbformat": 4,
 "nbformat_minor": 5
}
